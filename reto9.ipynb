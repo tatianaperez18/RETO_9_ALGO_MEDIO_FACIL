{
 "cells": [
  {
   "cell_type": "markdown",
   "metadata": {},
   "source": [
    "### ejercicio 1"
   ]
  },
  {
   "cell_type": "markdown",
   "metadata": {},
   "source": [
    "Mi mamá me manda a comprar P panes a 300 cada uno, M bolsas de leche a 3300 cada una y H huevos a 350 cada uno. Hacer un programa que me diga las vueltas (o lo que quedo debiendo) cuando me da un billete de B pesos."
   ]
  },
  {
   "cell_type": "code",
   "execution_count": 10,
   "metadata": {},
   "outputs": [
    {
     "name": "stdout",
     "output_type": "stream",
     "text": [
      "la cantidad de panes, bolsas de leche y huevos son 10, 1, 3, respectivamente, pagando con un billete de 10000 pesos, le sobraria o faltaria: \n",
      "Le sobra 2650 pesos\n"
     ]
    }
   ],
   "source": [
    "# defini las variables de los precios\n",
    "precio_pan = 300\n",
    "precio_leche = 3300\n",
    "precio_huevos = 350\n",
    "# el usuario ingresa los valores   \n",
    "p = int(input(\"Ingresa la cantidad de panes: \"))\n",
    "l = int(input(\"Ingresa la cantidad de bolsas de leche: \"))\n",
    "h = int(input(\"Ingresa la cantidad de huevos: \"))\n",
    "B = int(input(\"Ingresa el valor del billete en pesos: \"))\n",
    "print(\"la cantidad de panes, bolsas de leche y huevos son \" + str(p)+ \", \" +str(l)+ \", \" +str(h)+ \", respectivamente, pagando con un billete de \" + str(B)+ \" pesos, le sobraria o faltaria: \")\n",
    "#utilice la funcion lambda y multiplique el precio por la cantidad del producto\n",
    "costo_total = lambda p, l, h: p * precio_pan + l * precio_leche + h * precio_huevos\n",
    "total_compra = costo_total(p, l, h)\n",
    "#calcule las vueltas con la funcion lambda\n",
    "calcular_vueltas = lambda B, total_compra: B - total_compra\n",
    "vueltas = calcular_vueltas(B, total_compra)\n",
    "#si se cumple que las veltas es mayor de cero imprime el mensaje de lo contrario imprime el otro\n",
    "if vueltas >= 0:\n",
    "    print(\"Le sobra \" + str(vueltas)+ \" pesos\")\n",
    "else:\n",
    "    print(\"le faltan \" + str(abs(vueltas))+ \" pesos\")"
   ]
  },
  {
   "cell_type": "markdown",
   "metadata": {},
   "source": [
    "Diseñe una función que calcule la cantidad de carne de aves en kilos si se tienen N gallinas, M gallos y K pollitos cada uno pesando 6 kilos, 7 kilos y 1 kilo respectivamente."
   ]
  },
  {
   "cell_type": "code",
   "execution_count": 13,
   "metadata": {},
   "outputs": [
    {
     "name": "stdout",
     "output_type": "stream",
     "text": [
      "con 5 gallinas, 4 gallos y 7 pollitos, me da: \n",
      "Un total de 65 kilos\n"
     ]
    }
   ],
   "source": [
    "\n",
    "# defini la cantidad de kilos\n",
    "peso_gallina = 6  \n",
    "peso_gallo = 7    \n",
    "peso_pollito = 1  \n",
    "#el ususario introduce el numero\n",
    "N = int(input(\"Ingresa el número de gallinas: \"))\n",
    "M = int(input(\"Ingresa el número de gallos: \"))\n",
    "K = int(input(\"Ingresa el número de pollitos: \"))\n",
    "print(\"con \" + str(N)+ \" gallinas, \" + str(M)+ \" gallos y \" + str(K)+ \" pollitos, me da: \")\n",
    "#utilice la funcion lambda para llamar los numeros dados y hacer respectivas operaciones\n",
    "cantidad_carne = lambda N, M, K: N * peso_gallina + M * peso_gallo + K * peso_pollito\n",
    "total_carne = cantidad_carne(N, M, K)\n",
    "#imprime el total de kilos\n",
    "print(\"Un total de \" + str(total_carne)+ \" kilos\")"
   ]
  },
  {
   "cell_type": "markdown",
   "metadata": {},
   "source": [
    "El número de contagiados de Covid-19 en el país de NuncaLandia se duplica cada día. Hacer un programa que diga el número total de personas que se han contagiado cuando pasen D días a partir de hoy, si el número de contagiados actuales es C."
   ]
  },
  {
   "cell_type": "code",
   "execution_count": 15,
   "metadata": {},
   "outputs": [
    {
     "name": "stdout",
     "output_type": "stream",
     "text": [
      "si el numero actual de contagiados es de: 180\n",
      "El numero total de contagiados después de 10 dias sera 184320\n"
     ]
    }
   ],
   "source": [
    "#defini lambda y realice valores correspondientes\n",
    "numero_total_contagiados = lambda c, d: c * (2 ** d)\n",
    "#el usuario ingresa los valores\n",
    "c = int(input(\"Ingrese el número actual de contagiados: \"))\n",
    "d = int(input(\"Ingrese el número de días a partir de hoy: \"))\n",
    "#llame a la funcion y imprimi valores\n",
    "n_total = numero_total_contagiados(c, d)\n",
    "print(\"si el numero actual de contagiados es de: \" + str(c))\n",
    "print(\"El numero total de contagiados después de \" + str(d)+ \" dias sera \" + str(n_total))"
   ]
  },
  {
   "cell_type": "markdown",
   "metadata": {},
   "source": [
    "### ejercicio 2"
   ]
  },
  {
   "cell_type": "markdown",
   "metadata": {},
   "source": [
    "Escriba un programa que pida 5 números reales y calcule las siguientes operaciones usando una función para cada una:\n",
    "* solo el promedio:b"
   ]
  },
  {
   "cell_type": "code",
   "execution_count": 20,
   "metadata": {},
   "outputs": [
    {
     "name": "stdout",
     "output_type": "stream",
     "text": [
      "el promedio de 3.0, 5.0, 4.0, 3.0, 6.0 es: \n",
      "0.6\n"
     ]
    }
   ],
   "source": [
    "#defini el promedio con argumentos no definidos y hice las operaciones correspondientes\n",
    "def promedio( *numeros):\n",
    "    cantidad = len(numeros)\n",
    "    if cantidad <= 0:\n",
    "        return 0\n",
    "    suma = 0\n",
    "    for n in numeros:\n",
    "        suma += n\n",
    "        return suma / cantidad\n",
    "\n",
    "if __name__ == \"__main__\":\n",
    "#el usuario introduce los valores\n",
    "        n1 = float(input(\"ingrese el primer numero: \"))\n",
    "        n2 = float(input(\"ingrese el segundo numero: \"))\n",
    "        n3 = float(input(\"ingrese el tercer numero: \"))\n",
    "        n4 = float(input(\"ingrese el cuarto numero: \"))\n",
    "        n5 = float(input(\"ingrese el quinto numero: \"))\n",
    "#halle el promedio llamando los argumentos  \n",
    "print(\"el promedio de \" + str(n1)+ \", \" + str(n2)+ \", \" + str(n3)+ \", \" + str(n4)+ \", \" + str(n5)+ \" es: \")\n",
    "print(promedio(n1, n2, n3, n4, n5))\n"
   ]
  },
  {
   "cell_type": "markdown",
   "metadata": {},
   "source": [
    "* lo numeros oredenados de forma ascendente y descendente"
   ]
  },
  {
   "cell_type": "code",
   "execution_count": 27,
   "metadata": {},
   "outputs": [
    {
     "name": "stdout",
     "output_type": "stream",
     "text": [
      "los numeros 3.0, 5.0, 6.0, 7.0, 4.0 en forma ascendente son: \n",
      "[3.0, 4.0, 5.0, 6.0, 7.0]\n",
      "los numeros 3.0, 5.0, 6.0, 7.0, 4.0 en forma descendente son: \n",
      "[7.0, 6.0, 5.0, 4.0, 3.0]\n"
     ]
    }
   ],
   "source": [
    "#defini con argumentos no definidos las funciones con sus operaciones correspondientes para organizar los numeros \n",
    "def ascen( *numeros):\n",
    "    ascendente = sorted(numeros)\n",
    "    return ascendente\n",
    "def descen( *numeros):\n",
    "    ascendente = sorted(numeros, reverse=True)\n",
    "    return ascendente\n",
    "if __name__ == \"__main__\":\n",
    "#el usuario ingresa los valores \n",
    "        n1 = float(input(\"ingrese el primer numero: \"))\n",
    "        n2 = float(input(\"ingrese el segundo numero: \"))\n",
    "        n3 = float(input(\"ingrese el tercer numero: \"))\n",
    "        n4 = float(input(\"ingrese el cuarto numero: \"))\n",
    "        n5 = float(input(\"ingrese el quinto numero: \"))\n",
    "#imprime los valores y llama los argumentos   \n",
    "print(\"los numeros \" + str(n1)+ \", \" + str(n2)+ \", \" + str(n3)+ \", \" + str(n4)+ \", \" + str(n5)+ \" en forma ascendente son: \")\n",
    "print(ascen(n1, n2, n3, n4, n5))\n",
    "print(\"los numeros \" + str(n1)+ \", \" + str(n2)+ \", \" + str(n3)+ \", \" + str(n4)+ \", \" + str(n5)+ \" en forma descendente son: \")\n",
    "print(descen(n1, n2, n3, n4, n5))"
   ]
  },
  {
   "cell_type": "markdown",
   "metadata": {},
   "source": [
    "* La raíz cúbica del menor número"
   ]
  },
  {
   "cell_type": "code",
   "execution_count": 30,
   "metadata": {},
   "outputs": [
    {
     "name": "stdout",
     "output_type": "stream",
     "text": [
      "la raiz cubica del menor numero de 8.0, 9.0, 11.0, 12.0, 13.0 es: \n",
      "2.6666666666666665\n"
     ]
    }
   ],
   "source": [
    "#defini con argumentos no dfinidos y hice operaciones correspondientes\n",
    "def raiz_cubica( *numeros):\n",
    "    menor = min(numeros)\n",
    "    raiz_cubica = menor ** 1/3\n",
    "    return raiz_cubica \n",
    "\n",
    "if __name__ == \"__main__\":\n",
    "#el usuario inserta los valores\n",
    "        n1 = float(input(\"ingrese el primer numero: \"))\n",
    "        n2 = float(input(\"ingrese el segundo numero: \"))\n",
    "        n3 = float(input(\"ingrese el tercer numero: \"))\n",
    "        n4 = float(input(\"ingrese el cuarto numero: \"))\n",
    "        n5 = float(input(\"ingrese el quinto numero: \"))\n",
    " #imprime la funcion definida y se indican los argumentos    \n",
    "print(\"la raiz cubica del menor numero de \" + str(n1)+ \", \" + str(n2)+ \", \" + str(n3)+ \", \" + str(n4)+ \", \" + str(n5)+ \" es: \")\n",
    "print(raiz_cubica(n1, n2, n3, n4, n5))\n"
   ]
  },
  {
   "cell_type": "markdown",
   "metadata": {},
   "source": [
    "### ejercicio 3"
   ]
  },
  {
   "cell_type": "code",
   "execution_count": 17,
   "metadata": {},
   "outputs": [
    {
     "name": "stdout",
     "output_type": "stream",
     "text": [
      " la base 2 elevada a 3 da como resultado: 8\n"
     ]
    }
   ],
   "source": [
    "def potencia(base, exponente):\n",
    "# caso base\n",
    "    if exponente == 0:\n",
    "        return 1\n",
    "    else:\n",
    "#condicion de la funcion recursiva\n",
    "        return base * potencia(base, exponente - 1)\n",
    "#defini variales e imprimi resultados\n",
    "base = 2\n",
    "exponente = 3\n",
    "resultado = potencia(base, exponente)\n",
    "print(\" la base \" + str(base)+ \" elevada a \" + str(exponente)+ \" da como resultado: \" + str(resultado))"
   ]
  },
  {
   "cell_type": "markdown",
   "metadata": {},
   "source": [
    "### ejercicio 4"
   ]
  },
  {
   "cell_type": "code",
   "execution_count": 37,
   "metadata": {},
   "outputs": [
    {
     "name": "stdout",
     "output_type": "stream",
     "text": [
      "el numero: 0, con un tiempo recursivo de: 0.000000s\n",
      "el numero: 1, con un tiempo recursivo de: 0.000000s\n",
      "el numero: 2, con un tiempo recursivo de: 0.000000s\n",
      "el numero: 3, con un tiempo recursivo de: 0.000000s\n",
      "el numero: 4, con un tiempo recursivo de: 0.000000s\n",
      "el numero: 5, con un tiempo recursivo de: 0.000000s\n",
      "el numero: 6, con un tiempo recursivo de: 0.000000s\n",
      "el numero: 7, con un tiempo recursivo de: 0.000000s\n",
      "el numero: 8, con un tiempo recursivo de: 0.000000s\n",
      "el numero: 9, con un tiempo recursivo de: 0.000000s\n",
      "el numero: 10, con un tiempo recursivo de: 0.000000s\n",
      "el numero: 11, con un tiempo recursivo de: 0.000000s\n",
      "el numero: 12, con un tiempo recursivo de: 0.000000s\n",
      "el numero: 13, con un tiempo recursivo de: 0.000000s\n",
      "el numero: 14, con un tiempo recursivo de: 0.001000s\n",
      "el numero: 15, con un tiempo recursivo de: 0.000000s\n",
      "el numero: 16, con un tiempo recursivo de: 0.001000s\n",
      "el numero: 17, con un tiempo recursivo de: 0.001001s\n",
      "el numero: 18, con un tiempo recursivo de: 0.002001s\n",
      "el numero: 19, con un tiempo recursivo de: 0.003002s\n",
      "el numero: 20, con un tiempo recursivo de: 0.005003s\n",
      "el numero: 21, con un tiempo recursivo de: 0.009007s\n",
      "el numero: 22, con un tiempo recursivo de: 0.038027s\n",
      "el numero: 23, con un tiempo recursivo de: 0.029019s\n",
      "el numero: 24, con un tiempo recursivo de: 0.044029s\n",
      "el numero: 25, con un tiempo recursivo de: 0.104069s\n",
      "el numero: 26, con un tiempo recursivo de: 0.159105s\n",
      "el numero: 27, con un tiempo recursivo de: 0.217144s\n",
      "el numero: 28, con un tiempo recursivo de: 0.394262s\n",
      "el numero: 29, con un tiempo recursivo de: 0.562375s\n",
      "el numero: 30, con un tiempo recursivo de: 1.145766s\n",
      "la diferencia del tiempo significativa se da a partir del numero 30\n"
     ]
    }
   ],
   "source": [
    "import time\n",
    "# defini la función para calcular Fibonacci de forma recursiva\n",
    "def fibonacci_recursivo(n):\n",
    "    if n <= 1:\n",
    "        return n\n",
    "    else:\n",
    "        return fibonacci_recursivo(n - 1) + fibonacci_recursivo(n - 2)\n",
    "\n",
    "# Determine desde qué número la diferencia de tiempo se vuelve significativa\n",
    "numero_inicial = 0\n",
    "limite_superior = 35  \n",
    "#utilice for y la plantilla code dada \n",
    "for n in range(numero_inicial, limite_superior + 1):\n",
    "    start_time = time.time()\n",
    "    resultado_recursivo = fibonacci_recursivo(n)\n",
    "    end_time = time.time()\n",
    "    timer_recursivo = end_time - start_time\n",
    "#imprimi el numero y el tiempo recursivo\n",
    "    cadena = \"{:.6f}\".format(timer_recursivo) #lo puse en una cadena de solo seis decimales\n",
    "    print(\"el numero: \" + str(n)+ \", con un tiempo recursivo de: \" + str(cadena)+ \"s\")\n",
    "\n",
    "    # Defini un umbral de diferencia de tiempo significativa\n",
    "    umbral_significativo = 1.0 \n",
    "#se tiene que cumplir que el tiempo recursivo sea mayor que el umbral significativo si este llegara a ser menor se detiene el programa\n",
    "    if timer_recursivo > umbral_significativo:\n",
    "        print(\"la diferencia del tiempo significativa se da a partir del numero \" + str(n))\n",
    "        break\n"
   ]
  }
 ],
 "metadata": {
  "kernelspec": {
   "display_name": "Python 3",
   "language": "python",
   "name": "python3"
  },
  "language_info": {
   "codemirror_mode": {
    "name": "ipython",
    "version": 3
   },
   "file_extension": ".py",
   "mimetype": "text/x-python",
   "name": "python",
   "nbconvert_exporter": "python",
   "pygments_lexer": "ipython3",
   "version": "3.11.4"
  }
 },
 "nbformat": 4,
 "nbformat_minor": 2
}
